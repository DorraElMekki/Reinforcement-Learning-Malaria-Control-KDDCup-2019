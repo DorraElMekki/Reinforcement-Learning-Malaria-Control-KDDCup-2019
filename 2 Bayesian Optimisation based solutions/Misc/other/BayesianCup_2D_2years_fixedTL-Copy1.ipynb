{
 "cells": [
  {
   "cell_type": "code",
   "execution_count": 1,
   "metadata": {
    "colab": {},
    "colab_type": "code",
    "id": "-e0jnPxVR3ZL"
   },
   "outputs": [
    {
     "ename": "NameError",
     "evalue": "name 'allah' is not defined",
     "output_type": "error",
     "traceback": [
      "\u001b[1;31m---------------------------------------------------------------------------\u001b[0m",
      "\u001b[1;31mNameError\u001b[0m                                 Traceback (most recent call last)",
      "\u001b[1;32m<ipython-input-1-1560a16bedc0>\u001b[0m in \u001b[0;36m<module>\u001b[1;34m\u001b[0m\n\u001b[0;32m      1\u001b[0m \u001b[1;31m#!pip install bayesian-optimization  # for google collab\u001b[0m\u001b[1;33m\u001b[0m\u001b[1;33m\u001b[0m\u001b[1;33m\u001b[0m\u001b[0m\n\u001b[0;32m      2\u001b[0m \u001b[1;31m#!pip3 install git+https://github.com/slremy/netsapi --user --upgrade\u001b[0m\u001b[1;33m\u001b[0m\u001b[1;33m\u001b[0m\u001b[1;33m\u001b[0m\u001b[0m\n\u001b[1;32m----> 3\u001b[1;33m \u001b[0mallah\u001b[0m\u001b[1;33m\u001b[0m\u001b[1;33m\u001b[0m\u001b[0m\n\u001b[0m",
      "\u001b[1;31mNameError\u001b[0m: name 'allah' is not defined"
     ]
    }
   ],
   "source": [
    "#!pip install bayesian-optimization  # for google collab\n",
    "#!pip3 install git+https://github.com/slremy/netsapi --user --upgrade\n"
   ]
  },
  {
   "cell_type": "code",
   "execution_count": null,
   "metadata": {
    "colab": {},
    "colab_type": "code",
    "id": "wje_R8mnNGqs"
   },
   "outputs": [],
   "source": [
    "from bayes_opt import BayesianOptimization\n",
    "from bayes_opt.util import UtilityFunction\n",
    "import numpy as np\n",
    "\n",
    "import matplotlib.pyplot as plt\n",
    "from matplotlib import cm\n",
    "from matplotlib import mlab\n",
    "from matplotlib import gridspec\n",
    "%matplotlib inline"
   ]
  },
  {
   "cell_type": "code",
   "execution_count": null,
   "metadata": {
    "colab": {
     "base_uri": "https://localhost:8080/",
     "height": 34
    },
    "colab_type": "code",
    "executionInfo": {
     "elapsed": 779,
     "status": "ok",
     "timestamp": 1561628162197,
     "user": {
      "displayName": "sephiros sama",
      "photoUrl": "https://lh5.googleusercontent.com/-Aaghu78j1FA/AAAAAAAAAAI/AAAAAAAAImI/of29pyh0eh4/s64/photo.jpg",
      "userId": "04364851670955414673"
     },
     "user_tz": -120
    },
    "id": "crzCGgxjNGqw",
    "outputId": "5296003c-401f-48c5-f568-d1c0cec2e36f"
   },
   "outputs": [],
   "source": [
    "#challenge import\n",
    "from netsapi.challenge import *\n",
    " \n",
    "from sys import exit, exc_info, argv\n",
    "from multiprocessing import Pool, current_process\n",
    "import random as rand\n",
    "import json\n",
    "import requests\n",
    "import numpy as np\n",
    "import pandas as pd\n",
    "\n",
    "\n",
    "import statistics\n",
    "from IPython.display import clear_output\n",
    "\n",
    "from contextlib import contextmanager\n",
    "import sys, os\n",
    "@contextmanager\n",
    "def suppress_stdout():\n",
    "    with open(os.devnull, \"w\") as devnull:\n",
    "        old_stdout = sys.stdout\n",
    "        sys.stdout = devnull\n",
    "        try:  \n",
    "            yield\n",
    "        finally:\n",
    "            sys.stdout = old_stdout\n",
    "\n",
    "import matplotlib.pyplot as plt\n",
    "import numpy as np\n",
    "%matplotlib inline\n",
    "print(\"done\")"
   ]
  },
  {
   "cell_type": "code",
   "execution_count": null,
   "metadata": {
    "colab": {},
    "colab_type": "code",
    "id": "w02OmWsfNGq2"
   },
   "outputs": [],
   "source": [
    "envSeqDec = ChallengeSeqDecEnvironment()\n",
    "x_start = 0.0\n",
    "x_end = 1.0\n",
    "\n",
    "VAL_Max = 1.2 # fel heat map\n",
    "\n",
    "def target1(x, y):\n",
    "    x = np.asscalar(x)\n",
    "    y = np.asscalar(y)\n",
    "    envSeqDec.reset()\n",
    "    action = [x , y]\n",
    "    print(\"action\",action)\n",
    "    s,r,d,_ = envSeqDec.evaluateAction(action)\n",
    "    return r/90.0    \n",
    "\n",
    "def target(x,y):\n",
    "    if type(x) is np.ndarray:\n",
    "        result = []\n",
    "        for a,b in zip(x,y):\n",
    "            reward = target1(a,b)\n",
    "            result.append( reward )\n",
    "            #print((len(result) % 30 ) )\n",
    "            #if ((len(result) % 30 ) > 25) : \n",
    "            #    global envSeqDec\n",
    "            #    envSeqDec = ChallengeSeqDecEnvironment()\n",
    "        return result\n",
    "    else:\n",
    "        return target1(x,y)\n"
   ]
  },
  {
   "cell_type": "code",
   "execution_count": null,
   "metadata": {
    "colab": {},
    "colab_type": "code",
    "id": "EBQYUJ2gP5fB"
   },
   "outputs": [],
   "source": []
  },
  {
   "cell_type": "code",
   "execution_count": null,
   "metadata": {
    "colab": {},
    "colab_type": "code",
    "id": "_mmY7jv3NGq4"
   },
   "outputs": [],
   "source": [
    "# for the training\n",
    "n = 1e5\n",
    "x = y = np.linspace(x_start, x_end, 300)# was 300\n",
    "X, Y = np.meshgrid(x, y)\n",
    "x = X.ravel()\n",
    "y = Y.ravel()\n",
    "X = np.vstack([x, y]).T[:, [1, 0]]"
   ]
  },
  {
   "cell_type": "code",
   "execution_count": null,
   "metadata": {
    "colab": {},
    "colab_type": "code",
    "id": "yu7taWG8NGq6"
   },
   "outputs": [],
   "source": [
    "def posterior(bo, X):\n",
    "    #ur = unique_rows(bo.X)\n",
    "    x_obs = np.array([[res[\"params\"][\"x\"], res[\"params\"][\"y\"]] for res in bo.res])\n",
    "    y_obs = np.array([res[\"target\"] for res in bo.res])\n",
    "    \n",
    "    bo._gp.fit(x_obs, y_obs)\n",
    "    \n",
    "    mu, sigma = bo._gp.predict(X, return_std=True)\n",
    "    return mu, sigma\n",
    "\n",
    "def plot_2d(name=None):\n",
    "\n",
    "    #mu, s, ut = posterior(bo, X)\n",
    "    mu, s = posterior(bo, X)\n",
    "\n",
    "    fig, ax = plt.subplots(2, 2, figsize=(14, 10))\n",
    "    gridsize=150\n",
    "\n",
    "    # fig.suptitle('Bayesian Optimization in Action', fontdict={'size':30})\n",
    "    x_obs = np.array([[res[\"params\"][\"x\"], res[\"params\"][\"y\"]] for res in bo.res])\n",
    "    # GP regression output\n",
    "    ax[0][0].set_title('Gausian Process Predicted Mean', fontdict={'size':15})\n",
    "    im00 = ax[0][0].hexbin(x, y, C=mu, gridsize=gridsize, cmap=cm.jet, bins=None, vmin=-VAL_Max, vmax=VAL_Max)\n",
    "    ax[0][0].axis([x.min(), x.max(), y.min(), y.max()])\n",
    "    ax[0][0].plot(x_obs[:, 1], x_obs[:, 0], 'D', markersize=4, color='k', label='Observations')\n",
    "\n",
    "    ax[0][1].set_title('Target Function', fontdict={'size':15})\n",
    "    \"\"\"\n",
    "    im10 = ax[0][1].hexbin(x, y, C=z, gridsize=gridsize, cmap=cm.jet, bins=None, vmin=-VAL_Max, vmax=VAL_Max)\n",
    "    ax[0][1].axis([x.min(), x.max(), y.min(), y.max()])\n",
    "    #ax[0][1].plot(bo.X[:, 1], bo.X[:, 0], 'D', markersize=4, color='k')\n",
    "    ax[0][1].plot(x_obs[:, 1], x_obs[:, 0], 'D', markersize=4, color='k')\n",
    "    \"\"\"\n",
    "\n",
    "    ax[1][0].set_title('Gausian Process Variance', fontdict={'size':15})\n",
    "    im01 = ax[1][0].hexbin(x, y, C=s, gridsize=gridsize, cmap=cm.jet, bins=None, vmin=0, vmax=1)\n",
    "    ax[1][0].axis([x.min(), x.max(), y.min(), y.max()])\n",
    "\n",
    "    ax[1][1].set_title('Acquisition Function', fontdict={'size':15})\n",
    "    # acquisition func\n",
    "    \"\"\"\n",
    "    im11 = ax[1][1].hexbin(x, y, C=ut, gridsize=gridsize, cmap=cm.jet, bins=None, vmin=0, vmax=8)\n",
    "\n",
    "    np.where(ut.reshape((300, 300)) == ut.max())[0]\n",
    "    np.where(ut.reshape((300, 300)) == ut.max())[1]\n",
    "\n",
    "    ax[1][1].plot([np.where(ut.reshape((300, 300)) == ut.max())[1]/50., \n",
    "                   np.where(ut.reshape((300, 300)) == ut.max())[1]/50.], \n",
    "                  [0, 6], \n",
    "                  'k-', lw=2, color='k')\n",
    "\n",
    "    ax[1][1].plot([0, 6],\n",
    "                  [np.where(ut.reshape((300, 300)) == ut.max())[0]/50., \n",
    "                   np.where(ut.reshape((300, 300)) == ut.max())[0]/50.], \n",
    "                  'k-', lw=2, color='k')\n",
    "\n",
    "    ax[1][1].axis([x.min(), x.max(), y.min(), y.max()])\n",
    "    \"\"\"\n",
    "    for im, axis in zip([im00, im01], ax.flatten()):#, im10, im11\n",
    "        cb = fig.colorbar(im, ax=axis)\n",
    "        # cb.set_label('Value')\n",
    "\n",
    "    if name is None:\n",
    "        name = '_'\n",
    "\n",
    "    plt.tight_layout()\n",
    "\n",
    "    # Save or show figure?\n",
    "    # fig.savefig('bo_eg_' + name + '.png')\n",
    "    plt.show()\n",
    "    plt.close(fig)\n"
   ]
  },
  {
   "cell_type": "code",
   "execution_count": null,
   "metadata": {
    "colab": {
     "base_uri": "https://localhost:8080/",
     "height": 442
    },
    "colab_type": "code",
    "executionInfo": {
     "elapsed": 1453,
     "status": "error",
     "timestamp": 1561628162948,
     "user": {
      "displayName": "sephiros sama",
      "photoUrl": "https://lh5.googleusercontent.com/-Aaghu78j1FA/AAAAAAAAAAI/AAAAAAAAImI/of29pyh0eh4/s64/photo.jpg",
      "userId": "04364851670955414673"
     },
     "user_tz": -120
    },
    "id": "wIHuv8EXNGq8",
    "outputId": "68989e8e-6b1d-4e81-def2-302d831f0f82"
   },
   "outputs": [],
   "source": [
    "bo = BayesianOptimization(target, {'x': (x_start, x_end), 'y': (x_start, x_end)})\n",
    "\n",
    "used_kappa = 10\n",
    "\n",
    "bo.maximize(init_points=5, n_iter=0, acq='ucb', kappa=used_kappa)\n",
    "\n",
    "plot_2d()"
   ]
  },
  {
   "cell_type": "code",
   "execution_count": null,
   "metadata": {},
   "outputs": [],
   "source": [
    "def invRL(policy):\n",
    "    old_policy = [0.0, 0.0]\n",
    "    tot = 0.0\n",
    "    for year in range(5):\n",
    "        trans_policy = policy[year]\n",
    "        trans_policy[0] *= (1.0 - old_policy[0])\n",
    "        trans_policy[1] *= (1.0 - old_policy[1])\n",
    "\n",
    "        r_mu, r_sigma = bo._gp.predict([trans_policy], return_std=True)\n",
    "        print(\"invRL y\", year+1 , \": \",r_mu,\" +- \", r_sigma) # ben lezem +- el racine bte3ha\n",
    "        old_policy = policy[year]\n",
    "        tot+= r_mu\n",
    "    return tot\n",
    "\n",
    "\n",
    "def testHolePolicy(policy):\n",
    "    global envSeqDec\n",
    "    envSeqDec.reset()\n",
    "    year=0\n",
    "    tot=0.0\n",
    "    while True:\n",
    "        action =  policy[year]\n",
    "        nextstate, reward, done, _ = envSeqDec.evaluateAction(list(action))\n",
    "        print(\"test y\", year+1 , \": \",reward)\n",
    "        tot += reward\n",
    "        if done:\n",
    "            break\n",
    "        year+=1\n",
    "    return tot"
   ]
  },
  {
   "cell_type": "code",
   "execution_count": null,
   "metadata": {
    "colab": {},
    "colab_type": "code",
    "id": "bOEu6X1INGq_",
    "scrolled": true
   },
   "outputs": [],
   "source": [
    "# Turn interactive plotting off\n",
    "plt.ioff()\n",
    "policy =  [ [0.9991712478009906, 0.026881743252439638], [0.19702391566063626, 0.8142634903489118], [0.02287582405055888, 0.6499711714347374], [0.9944402045090077, 0.017507068898582667], [0.7295230492436623, 0.9926887775501024] ]\n",
    "\n",
    "for i in range(95):\n",
    "    bo.maximize(init_points=0, n_iter=1, acq='ucb', kappa=used_kappa)\n",
    "    print(\"myplot: \", \"{:03}\".format(len(bo.space)) )\n",
    "    plot_2d(\"{:03}\".format(len(bo.space)))\n",
    "    print(\"0.8  0.01\")\n",
    "    #mu, sigma = bo._gp.predict([0.8 0.01], return_std=True)\n",
    "    #print(mu)#\n",
    "    #print(sigma)\n",
    "    invRL_score = invRL(policy)\n",
    "    if (i % 10 == 1 ):    \n",
    "        test_score = testHolePolicy(policy)\n",
    "        print(\"diff = \", invRL_score*90.0 - test_score)"
   ]
  },
  {
   "cell_type": "code",
   "execution_count": null,
   "metadata": {},
   "outputs": [],
   "source": [
    "def myRandom():\n",
    "    return rand.random() # return round(rand.random(), 2)# TODO: remove this round thig # TODO run it more \n",
    "\n",
    "def GetRandPolicy():\n",
    "    policy=[]\n",
    "    policy.append([myRandom(),myRandom()])\n",
    "    policy.append([myRandom(),myRandom()])\n",
    "    policy.append([myRandom(),myRandom()])\n",
    "    policy.append([myRandom(),myRandom()])\n",
    "    policy.append([myRandom(),myRandom()]) \n",
    "    return policy\n",
    "\n",
    "\n",
    "evolution = []\n",
    "policies = []\n",
    "maxReward= 0.0\n",
    "nbTestedPolicy = 0\n",
    "while True:\n",
    "    if (nbTestedPolicy % 1000 == 0 ):\n",
    "        print('nbTestedPolicy',nbTestedPolicy)\n",
    "    nbTestedPolicy += 1\n",
    "    \n",
    "    policy = {}\n",
    "    policy['nwemer'] = GetRandPolicy()\n",
    "    potentialReward = invRL(policy['nwemer'])\n",
    "    if potentialReward<maxReward*0.9: continue\n",
    "    print(policy)\n",
    "        \n",
    "\n",
    "    policy['AvgReward'] = np.mean(potentialReward)\n",
    "    policy['maxRewards'] = np.mean(potentialReward) # to change\n",
    "    policies.append(policy)\n",
    "\n",
    "\n",
    "\n",
    "    policies.sort(key=lambda r: -r['AvgReward'])\n",
    "    evolution.append(policies[0]['AvgReward'])\n",
    "    maxReward=policies[0]['AvgReward']\n",
    "    print(\"##################################################################\")\n",
    "    clear_output()\n",
    "    \n",
    "    print('rewards',policies[0]['AvgReward'])\n",
    "    print('maxRewards',policies[0]['maxRewards'])\n",
    "    print('nbTestedPolicy',nbTestedPolicy)\n",
    "    \n",
    "    \n",
    "    if len(policies)>10: \n",
    "      policies = policies[0:9]\n",
    "    print(policies)\n",
    "    print(\"##################################################################\")\n",
    "    print(evolution)"
   ]
  }
 ],
 "metadata": {
  "colab": {
   "collapsed_sections": [],
   "name": "BayesianCup_2D_2years_fixedTL.ipynb",
   "provenance": [],
   "version": "0.3.2"
  },
  "kernelspec": {
   "display_name": "Python 3",
   "language": "python",
   "name": "python3"
  },
  "language_info": {
   "codemirror_mode": {
    "name": "ipython",
    "version": 3
   },
   "file_extension": ".py",
   "mimetype": "text/x-python",
   "name": "python",
   "nbconvert_exporter": "python",
   "pygments_lexer": "ipython3",
   "version": "3.6.8"
  }
 },
 "nbformat": 4,
 "nbformat_minor": 1
}
