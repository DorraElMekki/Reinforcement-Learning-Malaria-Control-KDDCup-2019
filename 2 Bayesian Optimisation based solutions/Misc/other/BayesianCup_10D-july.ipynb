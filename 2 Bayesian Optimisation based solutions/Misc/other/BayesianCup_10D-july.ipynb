{
 "cells": [
  {
   "cell_type": "code",
   "execution_count": 186,
   "metadata": {
    "colab": {},
    "colab_type": "code",
    "id": "-e0jnPxVR3ZL"
   },
   "outputs": [],
   "source": [
    "#!pip install bayesian-optimization  # for google collab\n",
    "#!pip install git+https://github.com/slremy/netsapi --user --upgrade\n"
   ]
  },
  {
   "cell_type": "code",
   "execution_count": 187,
   "metadata": {
    "colab": {},
    "colab_type": "code",
    "id": "wje_R8mnNGqs"
   },
   "outputs": [],
   "source": [
    "from bayes_opt import BayesianOptimization\n",
    "from bayes_opt.util import UtilityFunction\n",
    "%matplotlib inline\n",
    "import numpy as np\n",
    "\n",
    "import matplotlib.pyplot as plt\n",
    "from matplotlib import cm\n",
    "from matplotlib import mlab\n",
    "from matplotlib import gridspec\n",
    "%matplotlib inline"
   ]
  },
  {
   "cell_type": "code",
   "execution_count": 188,
   "metadata": {
    "colab": {
     "base_uri": "https://localhost:8080/",
     "height": 34
    },
    "colab_type": "code",
    "executionInfo": {
     "elapsed": 779,
     "status": "ok",
     "timestamp": 1561628162197,
     "user": {
      "displayName": "sephiros sama",
      "photoUrl": "https://lh5.googleusercontent.com/-Aaghu78j1FA/AAAAAAAAAAI/AAAAAAAAImI/of29pyh0eh4/s64/photo.jpg",
      "userId": "04364851670955414673"
     },
     "user_tz": -120
    },
    "id": "crzCGgxjNGqw",
    "outputId": "5296003c-401f-48c5-f568-d1c0cec2e36f"
   },
   "outputs": [
    {
     "name": "stdout",
     "output_type": "stream",
     "text": [
      "done\n"
     ]
    }
   ],
   "source": [
    "#challenge import\n",
    "from netsapi.challenge import *\n",
    " \n",
    "from sys import exit, exc_info, argv\n",
    "from multiprocessing import Pool, current_process\n",
    "import random as rand\n",
    "import json\n",
    "import requests\n",
    "import numpy as np\n",
    "import pandas as pd\n",
    "import statistics\n",
    "\n",
    "import statistics\n",
    "from IPython.display import clear_output\n",
    "\n",
    "from contextlib import contextmanager\n",
    "import sys, os\n",
    "@contextmanager\n",
    "def suppress_stdout():\n",
    "    with open(os.devnull, \"w\") as devnull:\n",
    "        old_stdout = sys.stdout\n",
    "        sys.stdout = devnull\n",
    "        try:  \n",
    "            yield\n",
    "        finally:\n",
    "            sys.stdout = old_stdout\n",
    "\n",
    "import matplotlib.pyplot as plt\n",
    "import numpy as np\n",
    "%matplotlib inline\n",
    "print(\"done\")"
   ]
  },
  {
   "cell_type": "code",
   "execution_count": 197,
   "metadata": {
    "colab": {},
    "colab_type": "code",
    "id": "w02OmWsfNGq2"
   },
   "outputs": [],
   "source": [
    "def newHoleEnv():\n",
    "    return ChallengeProveEnvironment()\n",
    "    #return ChallengeSeqDecEnvironment() #Initialise a New Challenge Environment to post entire policy\n",
    "\n",
    "env = newHoleEnv()\n",
    "\n",
    "\n",
    "x_start = 0.0\n",
    "x_end = 1.0\n",
    "\n",
    "VAL_Max = 1.2 # fel heat map\n"
   ]
  },
  {
   "cell_type": "code",
   "execution_count": 190,
   "metadata": {
    "colab": {},
    "colab_type": "code",
    "id": "_mmY7jv3NGq4"
   },
   "outputs": [],
   "source": [
    "# for the training\n",
    "n = 1e5\n",
    "x = y = np.linspace(x_start, x_end, 300)# was 300\n",
    "X, Y = np.meshgrid(x, y)\n",
    "x = X.ravel()\n",
    "y = Y.ravel()\n",
    "X = np.vstack([x, y]).T[:, [1, 0]]"
   ]
  },
  {
   "cell_type": "markdown",
   "metadata": {},
   "source": [
    "# All 5 years"
   ]
  },
  {
   "cell_type": "code",
   "execution_count": 191,
   "metadata": {},
   "outputs": [],
   "source": [
    "def target1(Y1x,Y1y,Y2x,Y2y,Y3x,Y3y,Y4x,Y4y,Y5x,Y5y):\n",
    "    Y1x = np.asscalar(Y1x)\n",
    "    Y1y = np.asscalar(Y1y)\n",
    "    \n",
    "    Y2x = np.asscalar(Y2x)\n",
    "    Y2y = np.asscalar(Y2y)\n",
    "    \n",
    "    Y3x = np.asscalar(Y3x)\n",
    "    Y3y = np.asscalar(Y3y)\n",
    "    \n",
    "    Y4x = np.asscalar(Y4x)\n",
    "    Y4y = np.asscalar(Y4y)\n",
    "    \n",
    "    Y5x = np.asscalar(Y5x)\n",
    "    Y5y = np.asscalar(Y5y)\n",
    "    \n",
    "    policy = {1:[Y1x, Y1y], 2:[Y2x, Y2y], 3:[Y3x, Y3y], 4:[Y4x, Y4y], 5:[Y5x, Y5y]}\n",
    "    \n",
    "    #with suppress_stdout():\n",
    "    env.reset()\n",
    "    reward_AllPolicy = env.evaluatePolicy(policy)\n",
    "    \n",
    "    return reward_AllPolicy/90.0    \n",
    "\n",
    "def target(Y1x,Y1y,Y2x,Y2y,Y3x,Y3y,Y4x,Y4y,Y5x,Y5y):\n",
    "    if type(Y1x) is np.ndarray:\n",
    "        result = []\n",
    "        for a,b,c,d,e,f,g,h,i,j in zip(Y1x,Y1y,Y2x,Y2y,Y3x,Y3y,Y4x,Y4y,Y5x,Y5y):\n",
    "            reward = target1(a,b,c,d,e,f,g,h,i,j)\n",
    "            result.append( reward )\n",
    "        return result\n",
    "    else:\n",
    "        return target1(Y1x,Y1y,Y2x,Y2y,Y3x,Y3y,Y4x,Y4y,Y5x,Y5y)"
   ]
  },
  {
   "cell_type": "code",
   "execution_count": 192,
   "metadata": {
    "scrolled": true
   },
   "outputs": [
    {
     "name": "stdout",
     "output_type": "stream",
     "text": [
      "|   iter    |  target   |    Y1x    |    Y1y    |    Y2x    |    Y2y    |    Y3x    |    Y3y    |    Y4x    |    Y4y    |    Y5x    |    Y5y    |\n",
      "-------------------------------------------------------------------------------------------------------------------------------------------------\n",
      "105  Evaluations Remaining\n",
      "| \u001b[0m 1       \u001b[0m | \u001b[0m 1.002   \u001b[0m | \u001b[0m 0.9481  \u001b[0m | \u001b[0m 0.9     \u001b[0m | \u001b[0m 0.3599  \u001b[0m | \u001b[0m 0.07035 \u001b[0m | \u001b[0m 0.253   \u001b[0m | \u001b[0m 0.6729  \u001b[0m | \u001b[0m 0.7258  \u001b[0m | \u001b[0m 0.3236  \u001b[0m | \u001b[0m 0.3505  \u001b[0m | \u001b[0m 0.3195  \u001b[0m |\n",
      "100  Evaluations Remaining\n",
      "| \u001b[0m 2       \u001b[0m | \u001b[0m-0.03963 \u001b[0m | \u001b[0m 0.9363  \u001b[0m | \u001b[0m 0.2459  \u001b[0m | \u001b[0m 0.2818  \u001b[0m | \u001b[0m 0.4846  \u001b[0m | \u001b[0m 0.7849  \u001b[0m | \u001b[0m 0.3261  \u001b[0m | \u001b[0m 0.7327  \u001b[0m | \u001b[0m 0.9922  \u001b[0m | \u001b[0m 0.9509  \u001b[0m | \u001b[0m 0.9278  \u001b[0m |\n",
      "95  Evaluations Remaining\n",
      "| \u001b[0m 3       \u001b[0m | \u001b[0m-0.2956  \u001b[0m | \u001b[0m 0.6448  \u001b[0m | \u001b[0m 0.8508  \u001b[0m | \u001b[0m 0.7724  \u001b[0m | \u001b[0m 0.7841  \u001b[0m | \u001b[0m 0.9813  \u001b[0m | \u001b[0m 0.5868  \u001b[0m | \u001b[0m 0.7602  \u001b[0m | \u001b[0m 0.9193  \u001b[0m | \u001b[0m 0.651   \u001b[0m | \u001b[0m 0.2523  \u001b[0m |\n",
      "90  Evaluations Remaining\n",
      "| \u001b[0m 4       \u001b[0m | \u001b[0m 0.6392  \u001b[0m | \u001b[0m 0.3491  \u001b[0m | \u001b[0m 0.8538  \u001b[0m | \u001b[0m 0.7163  \u001b[0m | \u001b[0m 0.5282  \u001b[0m | \u001b[0m 0.1239  \u001b[0m | \u001b[0m 0.9261  \u001b[0m | \u001b[0m 0.9839  \u001b[0m | \u001b[0m 0.2716  \u001b[0m | \u001b[0m 0.1685  \u001b[0m | \u001b[0m 0.03835 \u001b[0m |\n",
      "85  Evaluations Remaining\n",
      "| \u001b[0m 5       \u001b[0m | \u001b[0m 0.4783  \u001b[0m | \u001b[0m 0.1971  \u001b[0m | \u001b[0m 0.7563  \u001b[0m | \u001b[0m 0.4645  \u001b[0m | \u001b[0m 0.3064  \u001b[0m | \u001b[0m 0.9295  \u001b[0m | \u001b[0m 0.3378  \u001b[0m | \u001b[0m 0.8698  \u001b[0m | \u001b[0m 0.1656  \u001b[0m | \u001b[0m 0.6925  \u001b[0m | \u001b[0m 0.4564  \u001b[0m |\n",
      "=================================================================================================================================================\n",
      "|   iter    |  target   |    Y1x    |    Y1y    |    Y2x    |    Y2y    |    Y3x    |    Y3y    |    Y4x    |    Y4y    |    Y5x    |    Y5y    |\n",
      "-------------------------------------------------------------------------------------------------------------------------------------------------\n",
      "80  Evaluations Remaining\n",
      "| \u001b[0m 6       \u001b[0m | \u001b[0m 0.06634 \u001b[0m | \u001b[0m 0.0     \u001b[0m | \u001b[0m 0.0     \u001b[0m | \u001b[0m 1.0     \u001b[0m | \u001b[0m 0.0     \u001b[0m | \u001b[0m 0.0     \u001b[0m | \u001b[0m 0.0     \u001b[0m | \u001b[0m 0.0     \u001b[0m | \u001b[0m 0.0     \u001b[0m | \u001b[0m 0.0     \u001b[0m | \u001b[0m 1.0     \u001b[0m |\n",
      "=================================================================================================================================================\n",
      "|   iter    |  target   |    Y1x    |    Y1y    |    Y2x    |    Y2y    |    Y3x    |    Y3y    |    Y4x    |    Y4y    |    Y5x    |    Y5y    |\n",
      "-------------------------------------------------------------------------------------------------------------------------------------------------\n",
      "75  Evaluations Remaining\n",
      "| \u001b[0m 7       \u001b[0m | \u001b[0m 0.4134  \u001b[0m | \u001b[0m 1.0     \u001b[0m | \u001b[0m 0.0     \u001b[0m | \u001b[0m 0.0     \u001b[0m | \u001b[0m 1.0     \u001b[0m | \u001b[0m 0.0     \u001b[0m | \u001b[0m 1.0     \u001b[0m | \u001b[0m 0.0     \u001b[0m | \u001b[0m 0.0     \u001b[0m | \u001b[0m 1.0     \u001b[0m | \u001b[0m 0.0     \u001b[0m |\n",
      "=================================================================================================================================================\n",
      "|   iter    |  target   |    Y1x    |    Y1y    |    Y2x    |    Y2y    |    Y3x    |    Y3y    |    Y4x    |    Y4y    |    Y5x    |    Y5y    |\n",
      "-------------------------------------------------------------------------------------------------------------------------------------------------\n",
      "70  Evaluations Remaining\n",
      "| \u001b[0m 8       \u001b[0m | \u001b[0m 0.9122  \u001b[0m | \u001b[0m 0.0     \u001b[0m | \u001b[0m 1.0     \u001b[0m | \u001b[0m 0.0     \u001b[0m | \u001b[0m 0.0     \u001b[0m | \u001b[0m 0.0     \u001b[0m | \u001b[0m 0.0     \u001b[0m | \u001b[0m 0.0     \u001b[0m | \u001b[0m 1.0     \u001b[0m | \u001b[0m 1.0     \u001b[0m | \u001b[0m 0.0     \u001b[0m |\n",
      "=================================================================================================================================================\n",
      "|   iter    |  target   |    Y1x    |    Y1y    |    Y2x    |    Y2y    |    Y3x    |    Y3y    |    Y4x    |    Y4y    |    Y5x    |    Y5y    |\n",
      "-------------------------------------------------------------------------------------------------------------------------------------------------\n",
      "65  Evaluations Remaining\n",
      "| \u001b[95m 9       \u001b[0m | \u001b[95m 1.098   \u001b[0m | \u001b[95m 0.0     \u001b[0m | \u001b[95m 0.0     \u001b[0m | \u001b[95m 0.0     \u001b[0m | \u001b[95m 0.0     \u001b[0m | \u001b[95m 1.0     \u001b[0m | \u001b[95m 1.0     \u001b[0m | \u001b[95m 0.0     \u001b[0m | \u001b[95m 1.0     \u001b[0m | \u001b[95m 0.0     \u001b[0m | \u001b[95m 0.0     \u001b[0m |\n",
      "=================================================================================================================================================\n",
      "|   iter    |  target   |    Y1x    |    Y1y    |    Y2x    |    Y2y    |    Y3x    |    Y3y    |    Y4x    |    Y4y    |    Y5x    |    Y5y    |\n",
      "-------------------------------------------------------------------------------------------------------------------------------------------------\n",
      "60  Evaluations Remaining\n",
      "| \u001b[95m 10      \u001b[0m | \u001b[95m 1.577   \u001b[0m | \u001b[95m 0.0     \u001b[0m | \u001b[95m 1.0     \u001b[0m | \u001b[95m 0.0     \u001b[0m | \u001b[95m 1.0     \u001b[0m | \u001b[95m 1.0     \u001b[0m | \u001b[95m 1.0     \u001b[0m | \u001b[95m 0.0     \u001b[0m | \u001b[95m 0.0     \u001b[0m | \u001b[95m 0.0     \u001b[0m | \u001b[95m 1.0     \u001b[0m |\n",
      "=================================================================================================================================================\n",
      "|   iter    |  target   |    Y1x    |    Y1y    |    Y2x    |    Y2y    |    Y3x    |    Y3y    |    Y4x    |    Y4y    |    Y5x    |    Y5y    |\n",
      "-------------------------------------------------------------------------------------------------------------------------------------------------\n",
      "55  Evaluations Remaining\n",
      "| \u001b[0m 11      \u001b[0m | \u001b[0m 1.121   \u001b[0m | \u001b[0m 0.0     \u001b[0m | \u001b[0m 1.0     \u001b[0m | \u001b[0m 0.0     \u001b[0m | \u001b[0m 0.0     \u001b[0m | \u001b[0m 0.0     \u001b[0m | \u001b[0m 1.0     \u001b[0m | \u001b[0m 1.0     \u001b[0m | \u001b[0m 1.0     \u001b[0m | \u001b[0m 0.0     \u001b[0m | \u001b[0m 1.0     \u001b[0m |\n",
      "=================================================================================================================================================\n",
      "|   iter    |  target   |    Y1x    |    Y1y    |    Y2x    |    Y2y    |    Y3x    |    Y3y    |    Y4x    |    Y4y    |    Y5x    |    Y5y    |\n",
      "-------------------------------------------------------------------------------------------------------------------------------------------------\n",
      "50  Evaluations Remaining\n",
      "| \u001b[0m 12      \u001b[0m | \u001b[0m-0.0354  \u001b[0m | \u001b[0m 1.0     \u001b[0m | \u001b[0m 1.0     \u001b[0m | \u001b[0m 0.0     \u001b[0m | \u001b[0m 1.0     \u001b[0m | \u001b[0m 0.0     \u001b[0m | \u001b[0m 0.0     \u001b[0m | \u001b[0m 1.0     \u001b[0m | \u001b[0m 0.0     \u001b[0m | \u001b[0m 0.0     \u001b[0m | \u001b[0m 1.0     \u001b[0m |\n",
      "=================================================================================================================================================\n",
      "|   iter    |  target   |    Y1x    |    Y1y    |    Y2x    |    Y2y    |    Y3x    |    Y3y    |    Y4x    |    Y4y    |    Y5x    |    Y5y    |\n",
      "-------------------------------------------------------------------------------------------------------------------------------------------------\n",
      "45  Evaluations Remaining\n",
      "| \u001b[0m 13      \u001b[0m | \u001b[0m 1.116   \u001b[0m | \u001b[0m 0.0     \u001b[0m | \u001b[0m 1.0     \u001b[0m | \u001b[0m 1.0     \u001b[0m | \u001b[0m 0.0     \u001b[0m | \u001b[0m 0.0     \u001b[0m | \u001b[0m 1.0     \u001b[0m | \u001b[0m 0.0     \u001b[0m | \u001b[0m 0.0     \u001b[0m | \u001b[0m 1.0     \u001b[0m | \u001b[0m 1.0     \u001b[0m |\n",
      "=================================================================================================================================================\n",
      "|   iter    |  target   |    Y1x    |    Y1y    |    Y2x    |    Y2y    |    Y3x    |    Y3y    |    Y4x    |    Y4y    |    Y5x    |    Y5y    |\n",
      "-------------------------------------------------------------------------------------------------------------------------------------------------\n",
      "40  Evaluations Remaining\n",
      "| \u001b[0m 14      \u001b[0m | \u001b[0m 0.01818 \u001b[0m | \u001b[0m 1.0     \u001b[0m | \u001b[0m 1.0     \u001b[0m | \u001b[0m 1.0     \u001b[0m | \u001b[0m 0.0     \u001b[0m | \u001b[0m 1.0     \u001b[0m | \u001b[0m 1.0     \u001b[0m | \u001b[0m 0.0     \u001b[0m | \u001b[0m 0.0     \u001b[0m | \u001b[0m 0.0     \u001b[0m | \u001b[0m 1.0     \u001b[0m |\n",
      "=================================================================================================================================================\n",
      "|   iter    |  target   |    Y1x    |    Y1y    |    Y2x    |    Y2y    |    Y3x    |    Y3y    |    Y4x    |    Y4y    |    Y5x    |    Y5y    |\n",
      "-------------------------------------------------------------------------------------------------------------------------------------------------\n"
     ]
    },
    {
     "name": "stdout",
     "output_type": "stream",
     "text": [
      "35  Evaluations Remaining\n",
      "| \u001b[0m 15      \u001b[0m | \u001b[0m 0.5442  \u001b[0m | \u001b[0m 0.0     \u001b[0m | \u001b[0m 0.0     \u001b[0m | \u001b[0m 0.0     \u001b[0m | \u001b[0m 0.0     \u001b[0m | \u001b[0m 0.0     \u001b[0m | \u001b[0m 1.0     \u001b[0m | \u001b[0m 1.0     \u001b[0m | \u001b[0m 0.0     \u001b[0m | \u001b[0m 1.0     \u001b[0m | \u001b[0m 1.0     \u001b[0m |\n",
      "=================================================================================================================================================\n",
      "|   iter    |  target   |    Y1x    |    Y1y    |    Y2x    |    Y2y    |    Y3x    |    Y3y    |    Y4x    |    Y4y    |    Y5x    |    Y5y    |\n",
      "-------------------------------------------------------------------------------------------------------------------------------------------------\n",
      "30  Evaluations Remaining\n",
      "| \u001b[0m 16      \u001b[0m | \u001b[0m 1.176   \u001b[0m | \u001b[0m 0.0     \u001b[0m | \u001b[0m 1.0     \u001b[0m | \u001b[0m 0.0     \u001b[0m | \u001b[0m 0.0     \u001b[0m | \u001b[0m 0.0     \u001b[0m | \u001b[0m 1.0     \u001b[0m | \u001b[0m 0.0     \u001b[0m | \u001b[0m 0.0     \u001b[0m | \u001b[0m 1.11e-16\u001b[0m | \u001b[0m 0.0     \u001b[0m |\n",
      "=================================================================================================================================================\n",
      "|   iter    |  target   |    Y1x    |    Y1y    |    Y2x    |    Y2y    |    Y3x    |    Y3y    |    Y4x    |    Y4y    |    Y5x    |    Y5y    |\n",
      "-------------------------------------------------------------------------------------------------------------------------------------------------\n",
      "25  Evaluations Remaining\n",
      "| \u001b[0m 17      \u001b[0m | \u001b[0m 1.365   \u001b[0m | \u001b[0m 0.0     \u001b[0m | \u001b[0m 1.0     \u001b[0m | \u001b[0m 0.0     \u001b[0m | \u001b[0m 0.0     \u001b[0m | \u001b[0m 1.0     \u001b[0m | \u001b[0m 1.0     \u001b[0m | \u001b[0m 0.0     \u001b[0m | \u001b[0m 0.0     \u001b[0m | \u001b[0m 1.0     \u001b[0m | \u001b[0m 1.0     \u001b[0m |\n",
      "=================================================================================================================================================\n",
      "|   iter    |  target   |    Y1x    |    Y1y    |    Y2x    |    Y2y    |    Y3x    |    Y3y    |    Y4x    |    Y4y    |    Y5x    |    Y5y    |\n",
      "-------------------------------------------------------------------------------------------------------------------------------------------------\n",
      "20  Evaluations Remaining\n",
      "| \u001b[0m 18      \u001b[0m | \u001b[0m 0.7122  \u001b[0m | \u001b[0m 0.0     \u001b[0m | \u001b[0m 1.0     \u001b[0m | \u001b[0m 0.0     \u001b[0m | \u001b[0m 1.0     \u001b[0m | \u001b[0m 0.0     \u001b[0m | \u001b[0m 1.0     \u001b[0m | \u001b[0m 0.0     \u001b[0m | \u001b[0m 1.0     \u001b[0m | \u001b[0m 0.0     \u001b[0m | \u001b[0m 1.0     \u001b[0m |\n",
      "=================================================================================================================================================\n",
      "|   iter    |  target   |    Y1x    |    Y1y    |    Y2x    |    Y2y    |    Y3x    |    Y3y    |    Y4x    |    Y4y    |    Y5x    |    Y5y    |\n",
      "-------------------------------------------------------------------------------------------------------------------------------------------------\n",
      "15  Evaluations Remaining\n",
      "| \u001b[0m 19      \u001b[0m | \u001b[0m 0.8851  \u001b[0m | \u001b[0m 0.0     \u001b[0m | \u001b[0m 1.0     \u001b[0m | \u001b[0m 0.0     \u001b[0m | \u001b[0m 0.2406  \u001b[0m | \u001b[0m 1.0     \u001b[0m | \u001b[0m 1.0     \u001b[0m | \u001b[0m 0.0     \u001b[0m | \u001b[0m 0.0     \u001b[0m | \u001b[0m 0.0     \u001b[0m | \u001b[0m 1.0     \u001b[0m |\n",
      "=================================================================================================================================================\n",
      "|   iter    |  target   |    Y1x    |    Y1y    |    Y2x    |    Y2y    |    Y3x    |    Y3y    |    Y4x    |    Y4y    |    Y5x    |    Y5y    |\n",
      "-------------------------------------------------------------------------------------------------------------------------------------------------\n",
      "10  Evaluations Remaining\n",
      "| \u001b[0m 20      \u001b[0m | \u001b[0m 1.167   \u001b[0m | \u001b[0m 0.0     \u001b[0m | \u001b[0m 1.0     \u001b[0m | \u001b[0m 0.0     \u001b[0m | \u001b[0m 1.0     \u001b[0m | \u001b[0m 1.0     \u001b[0m | \u001b[0m 1.0     \u001b[0m | \u001b[0m 0.0     \u001b[0m | \u001b[0m 0.0     \u001b[0m | \u001b[0m 0.3887  \u001b[0m | \u001b[0m 0.947   \u001b[0m |\n",
      "=================================================================================================================================================\n"
     ]
    }
   ],
   "source": []
  },
  {
   "cell_type": "code",
   "execution_count": 193,
   "metadata": {},
   "outputs": [
    {
     "name": "stdout",
     "output_type": "stream",
     "text": [
      "{'Y1x': 0.0, 'Y1y': 1.0, 'Y2x': 0.0, 'Y2y': 1.0, 'Y3x': 1.0, 'Y3y': 1.0, 'Y4x': 0.0, 'Y4y': 0.0, 'Y5x': 0.0, 'Y5y': 1.0}\n"
     ]
    }
   ],
   "source": [
    "\n",
    "util = UtilityFunction( kind='ucb', kappa=0, xi=0.0)\n",
    "policy = y2hm.suggest(util)\n",
    "print( policy )\n",
    "\n",
    "#policy = {1:[policy['Y1x'],policy['Y1y']], 2:[policy['Y2x'],policy['Y2y']], 3:[policy['Y3x'] ,policy['Y3y']], 4:[policy['Y4x']     , policy['Y4y']], 5:[policy['Y5x'] , policy['Y5y']]}\n",
    "#reward_AllPolicy = env.evaluatePolicy(policy)\n",
    "#reward_AllPolicy#128.24 320 147 3 -53 91 116"
   ]
  },
  {
   "cell_type": "code",
   "execution_count": 198,
   "metadata": {},
   "outputs": [
    {
     "name": "stdout",
     "output_type": "stream",
     "text": [
      "predicted:  404.36517520271804\n",
      "{'target': 4.492946391141311, 'params': {'Y1x': 0.0, 'Y1y': 1.0, 'Y2x': 1.0, 'Y2y': 0.0, 'Y3x': 0.3608411208795799, 'Y3y': 1.0, 'Y4x': 0.0, 'Y4y': 0.0, 'Y5x': 1.0, 'Y5y': 0.0}}\n",
      "5  Evaluations Remaining\n",
      "found  411.3769956965983\n",
      "[411.3769956965983]\n",
      "avg  411.3769956965983\n",
      "predicted:  498.54758219911037\n",
      "{'target': 5.539417579990115, 'params': {'Y1x': 0.0, 'Y1y': 1.0, 'Y2x': 1.0, 'Y2y': 0.0, 'Y3x': 0.026652623385033918, 'Y3y': 1.0, 'Y4x': 1.0, 'Y4y': 0.0, 'Y5x': 1.0, 'Y5y': 1.0}}\n",
      "5  Evaluations Remaining\n",
      "found  496.18270104297477\n",
      "[411.3769956965983, 496.18270104297477]\n",
      "avg  453.7798483697866\n",
      "predicted:  323.0012076242075\n",
      "{'target': 3.5889023069356387, 'params': {'Y1x': 0.0, 'Y1y': 0.8725286376477303, 'Y2x': 0.0, 'Y2y': 0.8944732663114237, 'Y3x': 1.0, 'Y3y': 0.0, 'Y4x': 1.0, 'Y4y': 1.0, 'Y5x': 0.49688840544345014, 'Y5y': 0.25502498220069386}}\n",
      "5  Evaluations Remaining\n",
      "found  327.11644442855453\n",
      "[411.3769956965983, 496.18270104297477, 327.11644442855453]\n",
      "avg  411.55871372270923\n",
      "predicted:  501.9210264160834\n",
      "{'target': 5.576900293512038, 'params': {'Y1x': 0.0, 'Y1y': 1.0, 'Y2x': 1.0, 'Y2y': 0.0, 'Y3x': 0.0, 'Y3y': 1.0, 'Y4x': 1.0, 'Y4y': 0.0, 'Y5x': 0.12529078793378265, 'Y5y': 1.0}}\n",
      "5  Evaluations Remaining\n",
      "found  505.4414015863091\n",
      "[411.3769956965983, 496.18270104297477, 327.11644442855453, 505.4414015863091]\n",
      "avg  435.0293856886092\n",
      "predicted:  413.7729649433717\n",
      "{'target': 4.597477388259685, 'params': {'Y1x': 1.0, 'Y1y': 0.0, 'Y2x': 1.0, 'Y2y': 1.0, 'Y3x': 0.0, 'Y3y': 0.7519606987824612, 'Y4x': 1.0, 'Y4y': 0.0, 'Y5x': 0.0, 'Y5y': 1.0}}\n",
      "5  Evaluations Remaining\n",
      "found  397.2024156329027\n",
      "[411.3769956965983, 496.18270104297477, 327.11644442855453, 505.4414015863091, 397.2024156329027]\n",
      "avg  427.4639916774679\n",
      "predicted:  404.48481432521123\n",
      "{'target': 4.494275714724569, 'params': {'Y1x': 0.0, 'Y1y': 1.0, 'Y2x': 1.0, 'Y2y': 0.21341317704768006, 'Y3x': 0.8361170614997337, 'Y3y': 0.0, 'Y4x': 0.0, 'Y4y': 1.0, 'Y5x': 1.0, 'Y5y': 1.0}}\n",
      "5  Evaluations Remaining\n",
      "found  396.6907393360632\n",
      "[411.3769956965983, 496.18270104297477, 327.11644442855453, 505.4414015863091, 397.2024156329027, 396.6907393360632]\n",
      "avg  422.33511628723375\n",
      "predicted:  335.25559977543156\n",
      "{'target': 3.7250622197270173, 'params': {'Y1x': 0.012106929195313355, 'Y1y': 0.9573827270746202, 'Y2x': 0.8683964392824521, 'Y2y': 0.7494560309725133, 'Y3x': 0.27875970627799257, 'Y3y': 0.7958745330391784, 'Y4x': 1.0, 'Y4y': 0.189732299481761, 'Y5x': 0.028514658664608703, 'Y5y': 1.0}}\n",
      "5  Evaluations Remaining\n",
      "found  347.9756408094982\n",
      "[411.3769956965983, 496.18270104297477, 327.11644442855453, 505.4414015863091, 397.2024156329027, 396.6907393360632, 347.9756408094982]\n",
      "avg  411.7123340761287\n",
      "predicted:  505.11195053096\n",
      "{'target': 5.6123550058995555, 'params': {'Y1x': 0.0, 'Y1y': 1.0, 'Y2x': 1.0, 'Y2y': 0.0, 'Y3x': 0.0, 'Y3y': 1.0, 'Y4x': 1.0, 'Y4y': 0.0, 'Y5x': 0.0, 'Y5y': 0.863039227515611}}\n",
      "5  Evaluations Remaining\n",
      "found  472.66160674018715\n",
      "[411.3769956965983, 496.18270104297477, 327.11644442855453, 505.4414015863091, 397.2024156329027, 396.6907393360632, 347.9756408094982, 472.66160674018715]\n",
      "avg  419.330993159136\n",
      "predicted:  348.3211555361621\n",
      "{'target': 3.870235061512912, 'params': {'Y1x': 0.0, 'Y1y': 1.0, 'Y2x': 0.0, 'Y2y': 0.0, 'Y3x': 0.0, 'Y3y': 0.8166649258218113, 'Y4x': 0.0, 'Y4y': 1.0, 'Y5x': 1.0, 'Y5y': 0.0}}\n",
      "5  Evaluations Remaining\n",
      "found  374.5840305460131\n",
      "[411.3769956965983, 496.18270104297477, 327.11644442855453, 505.4414015863091, 397.2024156329027, 396.6907393360632, 347.9756408094982, 472.66160674018715, 374.5840305460131]\n",
      "avg  414.3591084243446\n",
      "predicted:  295.2042694210328\n",
      "{'target': 3.2800474380114752, 'params': {'Y1x': 0.0, 'Y1y': 1.0, 'Y2x': 1.0, 'Y2y': 0.0, 'Y3x': 1.0, 'Y3y': 0.0, 'Y4x': 0.0, 'Y4y': 0.0, 'Y5x': 0.0, 'Y5y': 1.0}}\n",
      "10  Evaluations Remaining\n",
      "found  302.0521209937549\n",
      "[411.3769956965983, 496.18270104297477, 327.11644442855453, 505.4414015863091, 397.2024156329027, 396.6907393360632, 347.9756408094982, 472.66160674018715, 374.5840305460131, 302.0521209937549]\n",
      "avg  403.1284096812856\n"
     ]
    }
   ],
   "source": [
    "test10 = []\n",
    "for _ in range(10):\n",
    "    with suppress_stdout():\n",
    "        env = newHoleEnv()\n",
    "        y2hm = BayesianOptimization(target, {'Y1x': (x_start, x_end), 'Y1y': (x_start, x_end), 'Y2x': (x_start, x_end), 'Y2y': (x_start, x_end), 'Y3x': (x_start, x_end), 'Y3y': (x_start, x_end), 'Y4x': (x_start, x_end), 'Y4y': (x_start, x_end), 'Y5x': (x_start, x_end), 'Y5y': (x_start, x_end)})\n",
    "        y2hm.maximize(init_points=5, n_iter=0, acq='ucb', kappa=10)\n",
    "        for i in range(10):\n",
    "            y2hm.maximize(init_points=0, n_iter=1, acq='ucb', kappa=9)\n",
    "        for i in range(3):\n",
    "            y2hm.maximize(init_points=0, n_iter=1, acq='ucb', kappa=2.5)\n",
    "        y2hm.maximize(init_points=0, n_iter=1, acq='ucb', kappa=1)\n",
    "        y2hm.maximize(init_points=0, n_iter=1, acq='ucb', kappa=0)\n",
    "\n",
    "\n",
    "\n",
    "\n",
    "\n",
    "    lista = y2hm.res[:]\n",
    "\n",
    "    lista.sort(key=lambda x: x['target'], reverse=True)\n",
    "    print(\"predicted: \", lista[0]['target']*90.0)\n",
    "    print(lista[0])\n",
    "    policy= lista[0]['params']\n",
    "    policy = {1:[policy['Y1x'],policy['Y1y']], 2:[policy['Y2x'],policy['Y2y']], 3:[policy['Y3x'] ,policy['Y3y']], 4:[policy['Y4x']     , policy['Y4y']], 5:[policy['Y5x'] , policy['Y5y']]}\n",
    "    reward_AllPolicy = env.evaluatePolicy(policy)\n",
    "    print(\"found \", reward_AllPolicy)\n",
    "    \n",
    "    test10.append(reward_AllPolicy)\n",
    "    print(test10)\n",
    "    print(\"avg \" , statistics.mean(test10) )\n",
    "    # new env\n",
    "    #[300.1965406523009, 105.0110819031425, 115.1528784257893, 160.271584955617, 379.3680461304216, 174.2849525615793, 77.43868978633171, 136.54672003348162, 245.3849503102257, 292.2777031518096]\n",
    "    #avg  198.59331479106993\n",
    "    \n",
    "    # old env\n",
    "    #[411.3769956965983, 496.18270104297477, 327.11644442855453, 505.4414015863091, 397.2024156329027, 396.6907393360632, 347.9756408094982, 472.66160674018715, 374.5840305460131, 302.0521209937549]\n",
    "    #avg  403.1284096812856\n",
    "    "
   ]
  },
  {
   "cell_type": "code",
   "execution_count": null,
   "metadata": {},
   "outputs": [],
   "source": []
  }
 ],
 "metadata": {
  "colab": {
   "collapsed_sections": [],
   "name": "BayesianCup_2D_2years_fixedTL.ipynb",
   "provenance": [],
   "version": "0.3.2"
  },
  "kernelspec": {
   "display_name": "Python 3",
   "language": "python",
   "name": "python3"
  },
  "language_info": {
   "codemirror_mode": {
    "name": "ipython",
    "version": 3
   },
   "file_extension": ".py",
   "mimetype": "text/x-python",
   "name": "python",
   "nbconvert_exporter": "python",
   "pygments_lexer": "ipython3",
   "version": "3.6.8"
  }
 },
 "nbformat": 4,
 "nbformat_minor": 1
}
